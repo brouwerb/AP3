{
 "cells": [
  {
   "cell_type": "code",
   "execution_count": 1,
   "metadata": {},
   "outputs": [
    {
     "name": "stdout",
     "output_type": "stream",
     "text": [
      "[array([1.257414142860234e-10+/-2.9347972216887964e-12,\n",
      "       1.4040420876806793e-10+/-2.9302368232156943e-12], dtype=object), array([1.2495778362733194e-10+/-1.4399064210912122e-12,\n",
      "       1.4121932988678606e-10+/-1.4295676839549234e-12], dtype=object), array([1.2582509428249817e-10+/-9.276497432482942e-13,\n",
      "       1.4146533926391e-10+/-9.120753445112184e-13], dtype=object)]\n",
      "[1.2550809739861784e-10+/-1.1326909591313268e-12\n",
      " 1.4102962597292132e-10+/-1.1285109676620933e-12]\n"
     ]
    }
   ],
   "source": [
    "from uncertainties import ufloat\n",
    "from uncertainties.umath import sin\n",
    "#import uarray\n",
    "from uncertainties.unumpy import uarray\n",
    "import numpy as np\n",
    "import uncertainties.unumpy as unp\n",
    "\n",
    "# Constants\n",
    "d = 564.02e-12 # Lattice spacing in meters\n",
    "n_values = [1, 2, 3] # Orders of diffraction\n",
    "\n",
    "# Angles in degrees with uncertainties\n",
    "angles = [[6.4, 12.8, 19.55], [7.15, 14.5, 22.1]]\n",
    "\n",
    "# Convert angles to radians\n",
    "angles = [np.pi*(uarray(angle, 0.15))/180 for angle in np.transpose(angles)]\n",
    "\n",
    "\n",
    "\n",
    "# Calculate wavelengths for each angle and n value\n",
    "wavelengths = []\n",
    "for i, I in enumerate(angles):\n",
    "    wavelength = (2 * d * unp.sin(I)) / (i+1)\n",
    "    wavelengths.append(wavelength)\n",
    "print(wavelengths)\n",
    "# Average wavelengths over n values\n",
    "\n",
    "avg_wavelengths = np.mean(wavelengths, axis=0)\n",
    "\n",
    "print(avg_wavelengths)"
   ]
  },
  {
   "cell_type": "code",
   "execution_count": 2,
   "metadata": {},
   "outputs": [
    {
     "name": "stdout",
     "output_type": "stream",
     "text": [
      "18.31+/-0.35\n"
     ]
    }
   ],
   "source": [
    "lamda = ufloat(67.7e-12, 1.3e-12)\n",
    "\n",
    "h = 6.62607004e-34\n",
    "c = 299792458\n",
    "e = 1.602176634e-19\n",
    "E = h*c/(lamda*e*1000)\n",
    "print(E)"
   ]
  }
 ],
 "metadata": {
  "kernelspec": {
   "display_name": "Python 3",
   "language": "python",
   "name": "python3"
  },
  "language_info": {
   "codemirror_mode": {
    "name": "ipython",
    "version": 3
   },
   "file_extension": ".py",
   "mimetype": "text/x-python",
   "name": "python",
   "nbconvert_exporter": "python",
   "pygments_lexer": "ipython3",
   "version": "3.9.7 (tags/v3.9.7:1016ef3, Aug 30 2021, 20:19:38) [MSC v.1929 64 bit (AMD64)]"
  },
  "orig_nbformat": 4,
  "vscode": {
   "interpreter": {
    "hash": "11355afd22f136875bfd4b5961a57b7b0cbb465f727ffde70759b085d5778f6c"
   }
  }
 },
 "nbformat": 4,
 "nbformat_minor": 2
}
