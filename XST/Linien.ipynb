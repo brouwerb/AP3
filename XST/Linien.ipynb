{
 "cells": [
  {
   "cell_type": "code",
   "execution_count": 1,
   "metadata": {},
   "outputs": [
    {
     "name": "stdout",
     "output_type": "stream",
     "text": [
      "[array([1.257414142860234e-10+/-2.9347972216887964e-12,\n",
      "       1.4040420876806793e-10+/-2.9302368232156943e-12], dtype=object), array([1.2495778362733194e-10+/-1.4399064210912122e-12,\n",
      "       1.4121932988678606e-10+/-1.4295676839549234e-12], dtype=object), array([1.2582509428249817e-10+/-9.276497432482942e-13,\n",
      "       1.4146533926391e-10+/-9.120753445112184e-13], dtype=object)]\n",
      "[1.2550809739861784e-10+/-1.1326909591313268e-12\n",
      " 1.4102962597292132e-10+/-1.1285109676620933e-12]\n"
     ]
    }
   ],
   "source": [
    "from uncertainties import ufloat\n",
    "from uncertainties.umath import sin\n",
    "#import uarray\n",
    "from uncertainties.unumpy import uarray\n",
    "import numpy as np\n",
    "import uncertainties.unumpy as unp\n",
    "\n",
    "# Constants\n",
    "d = 564.02e-12 # Lattice spacing in meters\n",
    "n_values = [1, 2, 3] # Orders of diffraction\n",
    "\n",
    "# Angles in degrees with uncertainties\n",
    "angles = [[6.4, 12.8, 19.55], [7.15, 14.5, 22.1]]\n",
    "\n",
    "# Convert angles to radians\n",
    "angles = [np.pi*(uarray(angle, 0.15))/180 for angle in np.transpose(angles)]\n",
    "\n",
    "\n",
    "\n",
    "# Calculate wavelengths for each angle and n value\n",
    "wavelengths = []\n",
    "for i, I in enumerate(angles):\n",
    "    wavelength = (2 * d * unp.sin(I)) / (i+1)\n",
    "    wavelengths.append(wavelength)\n",
    "print(wavelengths)\n",
    "# Average wavelengths over n values\n",
    "\n",
    "avg_wavelengths = np.mean(wavelengths, axis=0)\n",
    "\n",
    "print(avg_wavelengths)"
   ]
  },
  {
   "cell_type": "code",
   "execution_count": 2,
   "metadata": {},
   "outputs": [
    {
     "name": "stdout",
     "output_type": "stream",
     "text": [
      "18.31+/-0.35\n"
     ]
    }
   ],
   "source": [
    "lamda = ufloat(67.7e-12, 1.3e-12)\n",
    "\n",
    "h = 6.62607004e-34\n",
    "c = 299792458\n",
    "e = 1.602176634e-19\n",
    "E = h*c/(lamda*e*1000)\n",
    "print(E)"
   ]
  },
  {
   "cell_type": "code",
   "execution_count": 5,
   "metadata": {},
   "outputs": [
    {
     "name": "stdout",
     "output_type": "stream",
     "text": [
      "[10.0525+/-0.08385254915624211, 8.9025+/-0.08385254915624211]\n",
      "[4.039519068741999e-10+/-4.667470167790194e-12, 4.054835749712284e-10+/-6.1514383467172054e-12, 4.0471774092271417e-10+/-3.860876568237915e-12]\n"
     ]
    }
   ],
   "source": [
    "Kb1 = ufloat(8.76, 0.15)\n",
    "Kb2 = ufloat(18.09, 0.15)\n",
    "\n",
    "Ka1 = ufloat(9.9, 0.15)\n",
    "Ka2 = ufloat(20.41, 0.15)\n",
    "\n",
    "Ka = (Ka1 + Ka2/2)/2\n",
    "Kb = (Kb1 + Kb2/2)/2\n",
    "\n",
    "print([Ka,Kb])\n",
    "\n",
    "lamdaa = ufloat(70.51e-12, 0.57e-12)\n",
    "lambdab = ufloat(62.75e-12, 0.75e-12)\n",
    "\n",
    "ga = lamdaa / unp.sin(np.pi*Ka/180)\n",
    "gb = lambdab / unp.sin(np.pi*Kb/180)\n",
    "\n",
    "g = (ga + gb)/2\n",
    "\n",
    "print([ga, gb, g])"
   ]
  },
  {
   "cell_type": "code",
   "execution_count": 15,
   "metadata": {},
   "outputs": [
    {
     "name": "stdout",
     "output_type": "stream",
     "text": [
      "[8.791350457955815e-34+/-3.9461861808411383e-35\n",
      " 8.858154032864295e-34+/-3.731540300056245e-35\n",
      " 8.898236177809384e-34+/-3.532917653988943e-35\n",
      " 8.978400467699557e-34+/-3.395199275829412e-35\n",
      " 9.129109332693087e-34+/-3.287114960346552e-35\n",
      " 9.106663331523837e-34+/-3.190610352047908e-35]\n",
      "(8.96+/-0.14)e-34\n"
     ]
    }
   ],
   "source": [
    "L0 = [4.7e-11,5.1e-11,5.55e-11,6.0e-11,6.57e-11,7.1e-11]\n",
    "\n",
    "L = uarray([4.813165885397388e-11, 5.263708442320518e-11, 5.713021022715293e-11, 6.174982316236505e-11, 6.675139411337414e-11, 7.248380622946957e-11], 0.2e-11)\n",
    "\n",
    "U0 = [35, 32.5, 30, 28, 26, 24]\n",
    "\n",
    "U = uarray([35, 32.5, 30, 28, 26, 24], 0.5)*1000\n",
    "\n",
    "e = 1.602176634e-19\n",
    "c = 299792458\n",
    "\n",
    "h = L * e * U / c\n",
    "print(h)\n",
    "\n",
    "hav = \n",
    "print(hav)"
   ]
  }
 ],
 "metadata": {
  "kernelspec": {
   "display_name": "Python 3",
   "language": "python",
   "name": "python3"
  },
  "language_info": {
   "codemirror_mode": {
    "name": "ipython",
    "version": 3
   },
   "file_extension": ".py",
   "mimetype": "text/x-python",
   "name": "python",
   "nbconvert_exporter": "python",
   "pygments_lexer": "ipython3",
   "version": "3.9.2 (default, Feb 28 2021, 17:03:44) \n[GCC 10.2.1 20210110]"
  },
  "orig_nbformat": 4,
  "vscode": {
   "interpreter": {
    "hash": "31f2aee4e71d21fbe5cf8b01ff0e069b9275f58929596ceb00d14d90e3e16cd6"
   }
  }
 },
 "nbformat": 4,
 "nbformat_minor": 2
}
